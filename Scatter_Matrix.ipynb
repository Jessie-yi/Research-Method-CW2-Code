{
 "cells": [
  {
   "cell_type": "markdown",
   "id": "4c3e05f6-c5e6-4cfd-a5be-2d72f39f0bf7",
   "metadata": {},
   "source": [
    "# Interactive Scatter Matrix of Environmental Impacts by Diet Group\n",
    "\n",
    "**Diet groups:** Vegan, Vegetarian, Fish, Low meat consumption (Meat_low), Medium meat consumption (Meat_medium), High meat consumption (Meat_high)\n",
    "  \n",
    "**Environmental indicators:** Greenhouse gas emissions (GHGS), Land use (LAND), Water use (WATUSE), Water scarcity (WATSCAR), Eutrophication (EUT), Acidification (ACID), Biodiversity impact (BIO)\n",
    "\n",
    "**Features:** interactive hover tooltips, brushing selection, group color-coding"
   ]
  },
  {
   "cell_type": "code",
   "execution_count": 37,
   "id": "f03b9fcf-7077-46a4-8bb9-6b5c53e4eb6d",
   "metadata": {},
   "outputs": [
    {
     "data": {
      "text/html": [
       "<iframe\n",
       "    scrolling=\"no\"\n",
       "    width=\"920px\"\n",
       "    height=\"920\"\n",
       "    src=\"iframe_figures/figure_37.html\"\n",
       "    frameborder=\"0\"\n",
       "    allowfullscreen\n",
       "></iframe>\n"
      ]
     },
     "metadata": {},
     "output_type": "display_data"
    }
   ],
   "source": [
    "import pandas as pd\n",
    "import plotly.express as px\n",
    "import plotly.io as pio\n",
    "\n",
    "# Set Plotly renderer\n",
    "pio.renderers.default = \"iframe\"\n",
    "\n",
    "# Load data\n",
    "df = pd.read_csv(\"Results_21Mar2022.csv\")\n",
    "\n",
    "# Extract and standardize diet group names\n",
    "df['diet_group'] = df['grouping'].str.extract(r'^([a-zA-Z\\s<>+\\-0-9]+)_')[0].str.strip().str.lower()\n",
    "df['diet_group'] = df['diet_group'].replace({\n",
    "    'fish': 'Fish',\n",
    "    'veggie': 'Vegetarian',\n",
    "    'meat50-99': 'Meat_medium',\n",
    "    'meat <50': 'Meat_low',\n",
    "    'meat 100+': 'Meat_high'\n",
    "})\n",
    "\n",
    "# Select environmental indicators and calculate an overall impact score\n",
    "metrics = ['mean_ghgs', 'mean_land', 'mean_watscar', 'mean_eut',\n",
    "           'mean_bio', 'mean_watuse', 'mean_acid']\n",
    "\n",
    "# Create an interactive scatter matrix\n",
    "fig = px.scatter_matrix(\n",
    "    df,\n",
    "    dimensions=metrics,\n",
    "    color='diet_group',\n",
    "    title='Interactive Scatter Matrix of Environmental Metrics by Diet Group',\n",
    "    labels={col: col.replace('mean_', '').upper() for col in metrics},\n",
    "    height=900,\n",
    "    width=900\n",
    ")\n",
    "\n",
    "# Update scatter matrix layout\n",
    "fig.update_traces(diagonal_visible=False, marker=dict(opacity=0.7, size=5))\n",
    "fig.update_layout(\n",
    "    dragmode='select',\n",
    "    legend_title_text='Diet Group'\n",
    ")\n",
    "fig.show()\n"
   ]
  },
  {
   "cell_type": "code",
   "execution_count": 29,
   "id": "7ca2a53c-ef6c-42f0-afd1-9e1e80acaef4",
   "metadata": {},
   "outputs": [],
   "source": [
    "fig.write_image(\"Scatter_Matrix.svg\")"
   ]
  },
  {
   "cell_type": "code",
   "execution_count": null,
   "id": "9099d6e3-25ed-4772-82d3-902c11761dc1",
   "metadata": {},
   "outputs": [],
   "source": []
  }
 ],
 "metadata": {
  "kernelspec": {
   "display_name": "Python [conda env:base] *",
   "language": "python",
   "name": "conda-base-py"
  },
  "language_info": {
   "codemirror_mode": {
    "name": "ipython",
    "version": 3
   },
   "file_extension": ".py",
   "mimetype": "text/x-python",
   "name": "python",
   "nbconvert_exporter": "python",
   "pygments_lexer": "ipython3",
   "version": "3.12.7"
  }
 },
 "nbformat": 4,
 "nbformat_minor": 5
}
